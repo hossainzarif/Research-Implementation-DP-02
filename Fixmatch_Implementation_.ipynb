{
  "nbformat": 4,
  "nbformat_minor": 0,
  "metadata": {
    "accelerator": "GPU",
    "colab": {
      "name": "Fixmatch Implementation .ipynb",
      "provenance": [],
      "collapsed_sections": []
    },
    "kernelspec": {
      "display_name": "Python 3",
      "name": "python3"
    }
  },
  "cells": [
    {
      "cell_type": "code",
      "metadata": {
        "colab": {
          "base_uri": "https://localhost:8080/"
        },
        "id": "84V4AF7BlE9Q",
        "outputId": "d218c05a-0a63-486b-fc17-3d5bbe300eb9"
      },
      "source": [
        "!nvidia-smi"
      ],
      "execution_count": null,
      "outputs": [
        {
          "output_type": "stream",
          "text": [
            "Tue Mar  9 15:17:00 2021       \n",
            "+-----------------------------------------------------------------------------+\n",
            "| NVIDIA-SMI 460.56       Driver Version: 460.32.03    CUDA Version: 11.2     |\n",
            "|-------------------------------+----------------------+----------------------+\n",
            "| GPU  Name        Persistence-M| Bus-Id        Disp.A | Volatile Uncorr. ECC |\n",
            "| Fan  Temp  Perf  Pwr:Usage/Cap|         Memory-Usage | GPU-Util  Compute M. |\n",
            "|                               |                      |               MIG M. |\n",
            "|===============================+======================+======================|\n",
            "|   0  Tesla K80           Off  | 00000000:00:04.0 Off |                    0 |\n",
            "| N/A   71C    P8    34W / 149W |      0MiB / 11441MiB |      0%      Default |\n",
            "|                               |                      |                  N/A |\n",
            "+-------------------------------+----------------------+----------------------+\n",
            "                                                                               \n",
            "+-----------------------------------------------------------------------------+\n",
            "| Processes:                                                                  |\n",
            "|  GPU   GI   CI        PID   Type   Process name                  GPU Memory |\n",
            "|        ID   ID                                                   Usage      |\n",
            "|=============================================================================|\n",
            "|  No running processes found                                                 |\n",
            "+-----------------------------------------------------------------------------+\n"
          ],
          "name": "stdout"
        }
      ]
    },
    {
      "cell_type": "code",
      "metadata": {
        "id": "8vAsndFbyqdb"
      },
      "source": [
        "from IPython.display import clear_output\r\n",
        "# !pip install tensorflow\r\n",
        "!pip install tf-image\r\n",
        "!pip install tensorflow-addons\r\n",
        "clear_output()"
      ],
      "execution_count": null,
      "outputs": []
    },
    {
      "cell_type": "code",
      "metadata": {
        "id": "yn9oMZpJZUzt"
      },
      "source": [
        "import matplotlib.pyplot as plt \r\n",
        "import cv2\r\n",
        "from PIL import Image\r\n",
        "import tensorflow as tf \r\n",
        "import random\r\n",
        "from keras.preprocessing.image import ImageDataGenerator, load_img\r\n",
        "from sklearn.metrics import classification_report, confusion_matrix\r\n",
        "from sklearn.model_selection import train_test_split\r\n",
        "from keras import optimizers\r\n",
        "import numpy as np\r\n",
        "import pandas as pd\r\n",
        "import seaborn as sns\r\n",
        "from sklearn.model_selection import train_test_split, GridSearchCV, cross_val_score\r\n",
        "import tensorflow_addons as tfa\r\n",
        "\r\n",
        "from PIL import Image\r\n",
        "\r\n",
        "from tf_image.core.random import random_function\r\n",
        "from tf_image.core.colors import rgb_shift, channel_drop\r\n",
        "from tf_image.core.convert_type_decorator import convert_type"
      ],
      "execution_count": null,
      "outputs": []
    },
    {
      "cell_type": "markdown",
      "metadata": {
        "id": "r9-Easc9M7zE"
      },
      "source": [
        "**All** variable initialization"
      ]
    },
    {
      "cell_type": "code",
      "metadata": {
        "id": "EvocDp7LM7R8"
      },
      "source": [
        "split_ratio = 0.005\r\n",
        "threshold = 0.95\r\n",
        "wieght = 0.0001\r\n",
        "random_seed = 42"
      ],
      "execution_count": null,
      "outputs": []
    },
    {
      "cell_type": "code",
      "metadata": {
        "id": "1fx5WRCxZgFd",
        "colab": {
          "base_uri": "https://localhost:8080/"
        },
        "outputId": "555c7788-2733-4e30-a3a6-1eb56c3aaecc"
      },
      "source": [
        "(x_train, y_train), (x_test, y_test) = tf.keras.datasets.cifar10.load_data()"
      ],
      "execution_count": null,
      "outputs": [
        {
          "output_type": "stream",
          "text": [
            "Downloading data from https://www.cs.toronto.edu/~kriz/cifar-10-python.tar.gz\n",
            "170500096/170498071 [==============================] - 11s 0us/step\n"
          ],
          "name": "stdout"
        }
      ]
    },
    {
      "cell_type": "code",
      "metadata": {
        "colab": {
          "base_uri": "https://localhost:8080/",
          "height": 265
        },
        "id": "SSiyMLsrfsjs",
        "outputId": "614f613c-e063-4472-943c-d42434481de9"
      },
      "source": [
        "plt.imshow(x_train[0], cmap=\"gray\")\r\n",
        "plt.show() "
      ],
      "execution_count": null,
      "outputs": [
        {
          "output_type": "display_data",
          "data": {
            "image/png": "[encoded data removed]",
            "text/plain": [
              "<Figure size 432x288 with 1 Axes>"
            ]
          },
          "metadata": {
            "tags": [],
            "needs_background": "light"
          }
        }
      ]
    },
    {
      "cell_type": "code",
      "metadata": {
        "colab": {
          "base_uri": "https://localhost:8080/"
        },
        "id": "wDTHJQ7Gf0qA",
        "outputId": "64d0f856-e18b-4667-9fca-a79b73699cc1"
      },
      "source": [
        "len(x_train)"
      ],
      "execution_count": null,
      "outputs": [
        {
          "output_type": "execute_result",
          "data": {
            "text/plain": [
              "50000"
            ]
          },
          "metadata": {
            "tags": []
          },
          "execution_count": 9
        }
      ]
    },
    {
      "cell_type": "code",
      "metadata": {
        "colab": {
          "base_uri": "https://localhost:8080/"
        },
        "id": "i_La3dQ-f5CP",
        "outputId": "88fb12fe-1ff1-49d6-be07-ebe679ff1411"
      },
      "source": [
        "len(x_test)"
      ],
      "execution_count": null,
      "outputs": [
        {
          "output_type": "execute_result",
          "data": {
            "text/plain": [
              "10000"
            ]
          },
          "metadata": {
            "tags": []
          },
          "execution_count": 10
        }
      ]
    },
    {
      "cell_type": "code",
      "metadata": {
        "id": "STqMmr9U4sym"
      },
      "source": [
        "x_final_pseudolabel,x_final_train,y_final_pseudolabel,y_final_train = train_test_split(x_train, y_train, test_size=split_ratio, random_state= random_seed )"
      ],
      "execution_count": null,
      "outputs": []
    },
    {
      "cell_type": "code",
      "metadata": {
        "colab": {
          "base_uri": "https://localhost:8080/"
        },
        "id": "tEj6JQ_oMfnf",
        "outputId": "4395a508-cf0d-4a7b-c983-558446f052e5"
      },
      "source": [
        "len(x_final_train)"
      ],
      "execution_count": null,
      "outputs": [
        {
          "output_type": "execute_result",
          "data": {
            "text/plain": [
              "250"
            ]
          },
          "metadata": {
            "tags": []
          },
          "execution_count": 12
        }
      ]
    },
    {
      "cell_type": "code",
      "metadata": {
        "colab": {
          "base_uri": "https://localhost:8080/"
        },
        "id": "MqgiWeGyOg5G",
        "outputId": "f30a891f-1b05-4b79-a75f-fa719dd67350"
      },
      "source": [
        "x_final_train.shape"
      ],
      "execution_count": null,
      "outputs": [
        {
          "output_type": "execute_result",
          "data": {
            "text/plain": [
              "(250, 32, 32, 3)"
            ]
          },
          "metadata": {
            "tags": []
          },
          "execution_count": 13
        }
      ]
    },
    {
      "cell_type": "code",
      "metadata": {
        "id": "Yjrqw4XiWjnQ"
      },
      "source": [
        "# Normalize the train dataset\r\n",
        "x_final_train = tf.keras.utils.normalize(x_final_train, axis=1)"
      ],
      "execution_count": null,
      "outputs": []
    },
    {
      "cell_type": "markdown",
      "metadata": {
        "id": "HJfNzrF0Mz0f"
      },
      "source": [
        "Taking only 250 image sample for our data"
      ]
    },
    {
      "cell_type": "code",
      "metadata": {
        "id": "7BKmrl8EMyNG"
      },
      "source": [
        "#MODEL\r\n",
        "model=tf.keras.models.Sequential([\r\n",
        "    tf.keras.layers.Conv2D(16,(3,3),activation='relu',input_shape=(32,32,3)),\r\n",
        "    tf.keras.layers.MaxPooling2D(2,2),\r\n",
        "     tf.keras.layers.Conv2D(64,(3,3),activation='relu'),\r\n",
        "    tf.keras.layers.MaxPooling2D(2,2),\r\n",
        "    \r\n",
        "    tf.keras.layers.Flatten(),\r\n",
        "    tf.keras.layers.Dense(128, activation='relu'), \r\n",
        "     tf.keras.layers.Dropout(0.25),\r\n",
        "      tf.keras.layers.Dense(128, activation='relu'), \r\n",
        "     tf.keras.layers.Dropout(0.25),\r\n",
        "    tf.keras.layers.Dense(64, activation='relu'), \r\n",
        "    tf.keras.layers.Dropout(0.3),\r\n",
        "        tf.keras.layers.Dense(16, activation='relu'), \r\n",
        "    tf.keras.layers.Dropout(0.25),\r\n",
        "    tf.keras.layers.Dense(10, activation='softmax')  \r\n",
        "    \r\n",
        "])"
      ],
      "execution_count": null,
      "outputs": []
    },
    {
      "cell_type": "code",
      "metadata": {
        "colab": {
          "base_uri": "https://localhost:8080/"
        },
        "id": "alg8gnU5O4XY",
        "outputId": "e055473d-d3b4-4b90-87c8-a5e83a20573e"
      },
      "source": [
        "model.summary()"
      ],
      "execution_count": null,
      "outputs": [
        {
          "output_type": "stream",
          "text": [
            "Model: \"sequential\"\n",
            "_________________________________________________________________\n",
            "Layer (type)                 Output Shape              Param #   \n",
            "=================================================================\n",
            "conv2d (Conv2D)              (None, 30, 30, 16)        448       \n",
            "_________________________________________________________________\n",
            "max_pooling2d (MaxPooling2D) (None, 15, 15, 16)        0         \n",
            "_________________________________________________________________\n",
            "conv2d_1 (Conv2D)            (None, 13, 13, 64)        9280      \n",
            "_________________________________________________________________\n",
            "max_pooling2d_1 (MaxPooling2 (None, 6, 6, 64)          0         \n",
            "_________________________________________________________________\n",
            "flatten (Flatten)            (None, 2304)              0         \n",
            "_________________________________________________________________\n",
            "dense (Dense)                (None, 128)               295040    \n",
            "_________________________________________________________________\n",
            "dropout (Dropout)            (None, 128)               0         \n",
            "_________________________________________________________________\n",
            "dense_1 (Dense)              (None, 128)               16512     \n",
            "_________________________________________________________________\n",
            "dropout_1 (Dropout)          (None, 128)               0         \n",
            "_________________________________________________________________\n",
            "dense_2 (Dense)              (None, 64)                8256      \n",
            "_________________________________________________________________\n",
            "dropout_2 (Dropout)          (None, 64)                0         \n",
            "_________________________________________________________________\n",
            "dense_3 (Dense)              (None, 16)                1040      \n",
            "_________________________________________________________________\n",
            "dropout_3 (Dropout)          (None, 16)                0         \n",
            "_________________________________________________________________\n",
            "dense_4 (Dense)              (None, 10)                170       \n",
            "=================================================================\n",
            "Total params: 330,746\n",
            "Trainable params: 330,746\n",
            "Non-trainable params: 0\n",
            "_________________________________________________________________\n"
          ],
          "name": "stdout"
        }
      ]
    },
    {
      "cell_type": "code",
      "metadata": {
        "id": "pCoHrp3MO-x3"
      },
      "source": [
        "model.compile(optimizer='sgd',\r\n",
        "    loss='sparse_categorical_crossentropy',\r\n",
        "              metrics=['accuracy'])"
      ],
      "execution_count": null,
      "outputs": []
    },
    {
      "cell_type": "code",
      "metadata": {
        "colab": {
          "base_uri": "https://localhost:8080/"
        },
        "id": "l3Q8PUt_O-v0",
        "outputId": "abd38abc-2b80-4838-f2fd-51407ee7435c"
      },
      "source": [
        "history=model.fit(x_final_train,y_final_train,epochs=20,shuffle=False)"
      ],
      "execution_count": null,
      "outputs": [
        {
          "output_type": "stream",
          "text": [
            "Epoch 1/20\n",
            "8/8 [==============================] - 30s 15ms/step - loss: 2.3116 - accuracy: 0.1291\n",
            "Epoch 2/20\n",
            "8/8 [==============================] - 0s 6ms/step - loss: 2.3005 - accuracy: 0.1090\n",
            "Epoch 3/20\n",
            "8/8 [==============================] - 0s 6ms/step - loss: 2.2985 - accuracy: 0.1277\n",
            "Epoch 4/20\n",
            "8/8 [==============================] - 0s 6ms/step - loss: 2.2932 - accuracy: 0.1323\n",
            "Epoch 5/20\n",
            "8/8 [==============================] - 0s 6ms/step - loss: 2.3006 - accuracy: 0.1058\n",
            "Epoch 6/20\n",
            "8/8 [==============================] - 0s 6ms/step - loss: 2.2890 - accuracy: 0.1144\n",
            "Epoch 7/20\n",
            "8/8 [==============================] - 0s 6ms/step - loss: 2.2835 - accuracy: 0.1169\n",
            "Epoch 8/20\n",
            "8/8 [==============================] - 0s 6ms/step - loss: 2.3041 - accuracy: 0.1054\n",
            "Epoch 9/20\n",
            "8/8 [==============================] - 0s 6ms/step - loss: 2.2893 - accuracy: 0.1807\n",
            "Epoch 10/20\n",
            "8/8 [==============================] - 0s 6ms/step - loss: 2.2837 - accuracy: 0.1174\n",
            "Epoch 11/20\n",
            "8/8 [==============================] - 0s 7ms/step - loss: 2.2584 - accuracy: 0.1637\n",
            "Epoch 12/20\n",
            "8/8 [==============================] - 0s 6ms/step - loss: 2.2125 - accuracy: 0.1810\n",
            "Epoch 13/20\n",
            "8/8 [==============================] - 0s 6ms/step - loss: 2.2216 - accuracy: 0.1476\n",
            "Epoch 14/20\n",
            "8/8 [==============================] - 0s 6ms/step - loss: 2.2100 - accuracy: 0.1695\n",
            "Epoch 15/20\n",
            "8/8 [==============================] - 0s 7ms/step - loss: 2.1377 - accuracy: 0.1663\n",
            "Epoch 16/20\n",
            "8/8 [==============================] - 0s 7ms/step - loss: 2.1095 - accuracy: 0.2256\n",
            "Epoch 17/20\n",
            "8/8 [==============================] - 0s 6ms/step - loss: 2.0702 - accuracy: 0.2246\n",
            "Epoch 18/20\n",
            "8/8 [==============================] - 0s 6ms/step - loss: 2.0609 - accuracy: 0.2101\n",
            "Epoch 19/20\n",
            "8/8 [==============================] - 0s 6ms/step - loss: 2.0305 - accuracy: 0.2102\n",
            "Epoch 20/20\n",
            "8/8 [==============================] - 0s 6ms/step - loss: 2.0037 - accuracy: 0.2395\n"
          ],
          "name": "stdout"
        }
      ]
    },
    {
      "cell_type": "code",
      "metadata": {
        "id": "I2lUYtxLO-rO"
      },
      "source": [
        "#Weak Augmentation\r\n",
        "\r\n",
        "def weak_augmentation(image):\r\n",
        "  image = tf.image.random_flip_left_right(image)\r\n",
        "  image = tf.keras.preprocessing.image.random_shift(\r\n",
        "    image, 0.2, 0.3,)\r\n",
        "  return image\r\n",
        "\r\n"
      ],
      "execution_count": null,
      "outputs": []
    },
    {
      "cell_type": "code",
      "metadata": {
        "id": "lm-ybgg_O-o8"
      },
      "source": [
        "def randaugment_image(image):\r\n",
        "  image = tf.image.random_flip_left_right(image)\r\n",
        "  image = tf.image.random_flip_up_down(image)\r\n",
        "  image = tf.image.random_contrast(image,0.1,0.3)\r\n",
        "  image = tf.image.random_brightness(image,0.5)\r\n",
        "  seed = (1, 2)\r\n",
        "  image = tf.image.stateless_random_saturation(image, 0.1, 0.3, seed)\r\n",
        "#image = tf.image.stateless_random_crop(image,size=(1, 2, 3), seed=seed)\r\n",
        "  image = tf.image.stateless_random_hue(image, 0.2, seed)\r\n",
        "  image = tfa.image.sharpness(image,2,\"sharpness\")\r\n",
        "  image = tfa.image.shear_x(image,0.1,0.2)\r\n",
        "  image = tfa.image.shear_y(image,0.1,0.2)\r\n",
        "  image = tfa.image.equalize(image)\r\n",
        "  image = tfa.image.rotate(image, 5)\r\n",
        "  image = tf.keras.preprocessing.image.random_shift(\r\n",
        "    image, 0.1, 0.2,)\r\n",
        "  return image"
      ],
      "execution_count": null,
      "outputs": []
    },
    {
      "cell_type": "markdown",
      "metadata": {
        "id": "z4zIlwte5X-q"
      },
      "source": [
        "**PseudoLabeling weak Augmented Data**"
      ]
    },
    {
      "cell_type": "code",
      "metadata": {
        "id": "r1S6bK36O-iB"
      },
      "source": [
        "counter=0\r\n",
        "X= np.empty((1,32,32,3),dtype=int)\r\n",
        "Y= np.empty((1),dtype=int)\r\n",
        "\r\n",
        "for i in range (0,x_final_pseudolabel.shape[0]):  \r\n",
        "  x=x_final_pseudolabel[i]\r\n",
        "  x_aug= weak_augmentation(x)\r\n",
        "  x_expand=np.expand_dims(x_aug, axis=0)\r\n",
        "  images = np.vstack([x_expand])\r\n",
        "\r\n",
        "  classes = model.predict(images)\r\n",
        " \r\n",
        "  if(classes.max()>0.95):\r\n",
        "    x_strong_aug = randaugment_image(x_final_pseudolabel[i])\r\n",
        "    X=np.append(X,x_strong_aug.reshape(1,32,32,3),axis=0)  #heavily augmented images\r\n",
        "    Y=np.append(Y,(np.argmax(classes)))  #Pseudolabel\r\n",
        "\r\n",
        "\r\n",
        "    counter=counter+1\r\n",
        "  print(counter)\r\n",
        "X=np.delete(X, 0, 0)\r\n",
        "Y=np.delete(Y,0,0)\r\n",
        "\r\n",
        "clear_output()\r\n"
      ],
      "execution_count": null,
      "outputs": []
    },
    {
      "cell_type": "code",
      "metadata": {
        "id": "eiQYh6TqO-fh",
        "colab": {
          "base_uri": "https://localhost:8080/"
        },
        "outputId": "49092fca-b3fb-466d-d4be-0707566b5d71"
      },
      "source": [
        "print(X.shape)\r\n",
        "print(Y.shape)"
      ],
      "execution_count": null,
      "outputs": [
        {
          "output_type": "stream",
          "text": [
            "(49408, 32, 32, 3)\n",
            "(49408,)\n"
          ],
          "name": "stdout"
        }
      ]
    },
    {
      "cell_type": "code",
      "metadata": {
        "id": "C2suqQBCj9NK"
      },
      "source": [
        "X = tf.keras.utils.normalize(X, axis=1)"
      ],
      "execution_count": null,
      "outputs": []
    },
    {
      "cell_type": "code",
      "metadata": {
        "colab": {
          "base_uri": "https://localhost:8080/"
        },
        "id": "hlJsD34Ii76z",
        "outputId": "9bef9a0f-83d0-43ad-8042-b6cf5bf2a6c2"
      },
      "source": [
        "history=model.fit(X,Y,epochs=50,shuffle=False)"
      ],
      "execution_count": null,
      "outputs": [
        {
          "output_type": "stream",
          "text": [
            "Epoch 1/50\n",
            "1544/1544 [==============================] - 9s 6ms/step - loss: 0.6169 - accuracy: 0.8417\n",
            "Epoch 2/50\n",
            "1544/1544 [==============================] - 9s 6ms/step - loss: 0.5537 - accuracy: 0.8432\n",
            "Epoch 3/50\n",
            "1544/1544 [==============================] - 9s 6ms/step - loss: 0.5351 - accuracy: 0.8433\n",
            "Epoch 4/50\n",
            "1544/1544 [==============================] - 9s 6ms/step - loss: 0.5256 - accuracy: 0.8430\n",
            "Epoch 5/50\n",
            "1544/1544 [==============================] - 9s 6ms/step - loss: 0.5195 - accuracy: 0.8431\n",
            "Epoch 6/50\n",
            "1544/1544 [==============================] - 9s 6ms/step - loss: 0.5117 - accuracy: 0.8431\n",
            "Epoch 7/50\n",
            "1544/1544 [==============================] - 9s 6ms/step - loss: 0.5050 - accuracy: 0.8432\n",
            "Epoch 8/50\n",
            "1544/1544 [==============================] - 10s 6ms/step - loss: 0.4996 - accuracy: 0.8435\n",
            "Epoch 9/50\n",
            "1544/1544 [==============================] - 10s 6ms/step - loss: 0.4928 - accuracy: 0.8438\n",
            "Epoch 10/50\n",
            "1544/1544 [==============================] - 9s 6ms/step - loss: 0.4841 - accuracy: 0.8445\n",
            "Epoch 11/50\n",
            "1544/1544 [==============================] - 9s 6ms/step - loss: 0.4779 - accuracy: 0.8460\n",
            "Epoch 12/50\n",
            "1544/1544 [==============================] - 9s 6ms/step - loss: 0.4699 - accuracy: 0.8467\n",
            "Epoch 13/50\n",
            "1544/1544 [==============================] - 9s 6ms/step - loss: 0.4626 - accuracy: 0.8479\n",
            "Epoch 14/50\n",
            "1544/1544 [==============================] - 9s 6ms/step - loss: 0.4554 - accuracy: 0.8501\n",
            "Epoch 15/50\n",
            "1544/1544 [==============================] - 9s 6ms/step - loss: 0.4471 - accuracy: 0.8514\n",
            "Epoch 16/50\n",
            "1544/1544 [==============================] - 9s 6ms/step - loss: 0.4371 - accuracy: 0.8541\n",
            "Epoch 17/50\n",
            "1544/1544 [==============================] - 9s 6ms/step - loss: 0.4292 - accuracy: 0.8572\n",
            "Epoch 18/50\n",
            "1544/1544 [==============================] - 9s 6ms/step - loss: 0.4208 - accuracy: 0.8594\n",
            "Epoch 19/50\n",
            "1544/1544 [==============================] - 9s 6ms/step - loss: 0.4138 - accuracy: 0.8620\n",
            "Epoch 20/50\n",
            "1544/1544 [==============================] - 9s 6ms/step - loss: 0.4035 - accuracy: 0.8646\n",
            "Epoch 21/50\n",
            "1544/1544 [==============================] - 9s 6ms/step - loss: 0.3945 - accuracy: 0.8671\n",
            "Epoch 22/50\n",
            "1544/1544 [==============================] - 9s 6ms/step - loss: 0.3889 - accuracy: 0.8705\n",
            "Epoch 23/50\n",
            "1544/1544 [==============================] - 9s 6ms/step - loss: 0.3746 - accuracy: 0.8760\n",
            "Epoch 24/50\n",
            "1544/1544 [==============================] - 9s 6ms/step - loss: 0.3706 - accuracy: 0.8766\n",
            "Epoch 25/50\n",
            "1544/1544 [==============================] - 9s 6ms/step - loss: 0.3583 - accuracy: 0.8814\n",
            "Epoch 26/50\n",
            "1544/1544 [==============================] - 9s 6ms/step - loss: 0.3543 - accuracy: 0.8841\n",
            "Epoch 27/50\n",
            "1544/1544 [==============================] - 9s 6ms/step - loss: 0.3433 - accuracy: 0.8876\n",
            "Epoch 28/50\n",
            "1544/1544 [==============================] - 9s 6ms/step - loss: 0.3350 - accuracy: 0.8902\n",
            "Epoch 29/50\n",
            "1544/1544 [==============================] - 9s 6ms/step - loss: 0.3295 - accuracy: 0.8922\n",
            "Epoch 30/50\n",
            "1544/1544 [==============================] - 9s 6ms/step - loss: 0.3256 - accuracy: 0.8933\n",
            "Epoch 31/50\n",
            "1544/1544 [==============================] - 9s 6ms/step - loss: 0.3151 - accuracy: 0.8970\n",
            "Epoch 32/50\n",
            "1544/1544 [==============================] - 9s 6ms/step - loss: 0.3122 - accuracy: 0.8986\n",
            "Epoch 33/50\n",
            "1544/1544 [==============================] - 9s 6ms/step - loss: 0.3020 - accuracy: 0.9031\n",
            "Epoch 34/50\n",
            "1544/1544 [==============================] - 9s 6ms/step - loss: 0.2998 - accuracy: 0.9038\n",
            "Epoch 35/50\n",
            "1544/1544 [==============================] - 9s 6ms/step - loss: 0.2988 - accuracy: 0.9042\n",
            "Epoch 36/50\n",
            "1544/1544 [==============================] - 9s 6ms/step - loss: 0.2909 - accuracy: 0.9069\n",
            "Epoch 37/50\n",
            "1544/1544 [==============================] - 9s 6ms/step - loss: 0.2869 - accuracy: 0.9081\n",
            "Epoch 38/50\n",
            "1544/1544 [==============================] - 9s 6ms/step - loss: 0.2830 - accuracy: 0.9108\n",
            "Epoch 39/50\n",
            "1544/1544 [==============================] - 9s 6ms/step - loss: 0.2761 - accuracy: 0.9125\n",
            "Epoch 40/50\n",
            "1544/1544 [==============================] - 9s 6ms/step - loss: 0.2732 - accuracy: 0.9138\n",
            "Epoch 41/50\n",
            "1544/1544 [==============================] - 9s 6ms/step - loss: 0.2710 - accuracy: 0.9153\n",
            "Epoch 42/50\n",
            "1544/1544 [==============================] - 9s 6ms/step - loss: 0.2652 - accuracy: 0.9168\n",
            "Epoch 43/50\n",
            "1544/1544 [==============================] - 9s 6ms/step - loss: 0.2602 - accuracy: 0.9188\n",
            "Epoch 44/50\n",
            "1544/1544 [==============================] - 9s 6ms/step - loss: 0.2565 - accuracy: 0.9205\n",
            "Epoch 45/50\n",
            "1544/1544 [==============================] - 9s 6ms/step - loss: 0.2544 - accuracy: 0.9204\n",
            "Epoch 46/50\n",
            "1544/1544 [==============================] - 9s 6ms/step - loss: 0.2529 - accuracy: 0.9211\n",
            "Epoch 47/50\n",
            "1544/1544 [==============================] - 9s 6ms/step - loss: 0.2485 - accuracy: 0.9226\n",
            "Epoch 48/50\n",
            "1544/1544 [==============================] - 9s 6ms/step - loss: 0.2425 - accuracy: 0.9242\n",
            "Epoch 49/50\n",
            "1544/1544 [==============================] - 9s 6ms/step - loss: 0.2498 - accuracy: 0.9242\n",
            "Epoch 50/50\n",
            "1544/1544 [==============================] - 9s 6ms/step - loss: 0.2368 - accuracy: 0.9273\n"
          ],
          "name": "stdout"
        }
      ]
    },
    {
      "cell_type": "code",
      "metadata": {
        "id": "RN_loaRvjQ_t"
      },
      "source": [
        ""
      ],
      "execution_count": null,
      "outputs": []
    }
  ]
}